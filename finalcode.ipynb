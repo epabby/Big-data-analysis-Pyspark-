{
 "cells": [
  {
   "cell_type": "code",
   "execution_count": 1,
   "id": "e67e7d5e-bdcd-424d-93af-1f8944c15651",
   "metadata": {
    "id": "e67e7d5e-bdcd-424d-93af-1f8944c15651"
   },
   "outputs": [],
   "source": [
    "#import libraries\n",
    "import pandas as pd\n",
    "import datetime\n",
    "import matplotlib.pyplot as plt\n",
    "%matplotlib inline\n",
    "import seaborn as sns"
   ]
  },
  {
   "cell_type": "code",
   "execution_count": 3,
   "id": "eeddf87b-5528-4595-bd4f-ebe8e6ae9b13",
   "metadata": {
    "id": "eeddf87b-5528-4595-bd4f-ebe8e6ae9b13"
   },
   "outputs": [],
   "source": [
    "#reading with csv was not able to identify date properly as seen below. Only the last 2 digits were identified. This did nit make age computation possible\n",
    "ptcsv=pd.read_csv(\"patients.csv\")"
   ]
  },
  {
   "cell_type": "code",
   "execution_count": 4,
   "id": "7672b8c3-9a29-4b0b-acae-7f4a8ead6594",
   "metadata": {
    "id": "7672b8c3-9a29-4b0b-acae-7f4a8ead6594",
    "outputId": "39b9aad9-b524-47f4-8d68-e6f63035d0a5"
   },
   "outputs": [
    {
     "data": {
      "text/html": [
       "<div>\n",
       "<style scoped>\n",
       "    .dataframe tbody tr th:only-of-type {\n",
       "        vertical-align: middle;\n",
       "    }\n",
       "\n",
       "    .dataframe tbody tr th {\n",
       "        vertical-align: top;\n",
       "    }\n",
       "\n",
       "    .dataframe thead th {\n",
       "        text-align: right;\n",
       "    }\n",
       "</style>\n",
       "<table border=\"1\" class=\"dataframe\">\n",
       "  <thead>\n",
       "    <tr style=\"text-align: right;\">\n",
       "      <th></th>\n",
       "      <th>Id</th>\n",
       "      <th>BIRTHDATE</th>\n",
       "      <th>DEATHDATE</th>\n",
       "      <th>PREFIX</th>\n",
       "      <th>SUFFIX</th>\n",
       "      <th>MARITAL</th>\n",
       "      <th>RACE</th>\n",
       "      <th>ETHNICITY</th>\n",
       "      <th>GENDER</th>\n",
       "      <th>BIRTHPLACE</th>\n",
       "      <th>CITY</th>\n",
       "      <th>STATE</th>\n",
       "      <th>COUNTY</th>\n",
       "      <th>HEALTHCARE_EXPENSES</th>\n",
       "      <th>HEALTHCARE_COVERAGE</th>\n",
       "    </tr>\n",
       "  </thead>\n",
       "  <tbody>\n",
       "    <tr>\n",
       "      <th>0</th>\n",
       "      <td>f1639046-ecb1-b409-21d3-85a7e8e23c81</td>\n",
       "      <td>8/31/57</td>\n",
       "      <td>NaN</td>\n",
       "      <td>Ms.</td>\n",
       "      <td>NaN</td>\n",
       "      <td>S</td>\n",
       "      <td>white</td>\n",
       "      <td>nonhispanic</td>\n",
       "      <td>F</td>\n",
       "      <td>Germantown  Maryland  US</td>\n",
       "      <td>Baltimore</td>\n",
       "      <td>Maryland</td>\n",
       "      <td>Baltimore city</td>\n",
       "      <td>59484.51</td>\n",
       "      <td>1455.08</td>\n",
       "    </tr>\n",
       "    <tr>\n",
       "      <th>1</th>\n",
       "      <td>f851859f-b0fe-8b36-9939-4276b96d302d</td>\n",
       "      <td>11/22/50</td>\n",
       "      <td>NaN</td>\n",
       "      <td>Mrs.</td>\n",
       "      <td>NaN</td>\n",
       "      <td>M</td>\n",
       "      <td>black</td>\n",
       "      <td>nonhispanic</td>\n",
       "      <td>F</td>\n",
       "      <td>Clarksburg  Maryland  US</td>\n",
       "      <td>Baltimore</td>\n",
       "      <td>Maryland</td>\n",
       "      <td>Baltimore city</td>\n",
       "      <td>239428.05</td>\n",
       "      <td>12764.06</td>\n",
       "    </tr>\n",
       "  </tbody>\n",
       "</table>\n",
       "</div>"
      ],
      "text/plain": [
       "                                     Id BIRTHDATE DEATHDATE PREFIX SUFFIX  \\\n",
       "0  f1639046-ecb1-b409-21d3-85a7e8e23c81   8/31/57       NaN    Ms.    NaN   \n",
       "1  f851859f-b0fe-8b36-9939-4276b96d302d  11/22/50       NaN   Mrs.    NaN   \n",
       "\n",
       "  MARITAL   RACE    ETHNICITY GENDER                BIRTHPLACE       CITY  \\\n",
       "0       S  white  nonhispanic      F  Germantown  Maryland  US  Baltimore   \n",
       "1       M  black  nonhispanic      F  Clarksburg  Maryland  US  Baltimore   \n",
       "\n",
       "      STATE          COUNTY  HEALTHCARE_EXPENSES  HEALTHCARE_COVERAGE  \n",
       "0  Maryland  Baltimore city             59484.51              1455.08  \n",
       "1  Maryland  Baltimore city            239428.05             12764.06  "
      ]
     },
     "execution_count": 4,
     "metadata": {},
     "output_type": "execute_result"
    }
   ],
   "source": [
    "ptcsv.head(2)"
   ]
  },
  {
   "cell_type": "code",
   "execution_count": 5,
   "id": "a08f71cd-1b07-4321-b862-de4fdbc2f36e",
   "metadata": {
    "id": "a08f71cd-1b07-4321-b862-de4fdbc2f36e"
   },
   "outputs": [],
   "source": [
    "# csv was converted to excel and read with pandas which made it possible to read all the digits in the dates.\n",
    "pt=pd.read_excel(\"patients.xlsx\")"
   ]
  },
  {
   "cell_type": "code",
   "execution_count": 7,
   "id": "acf144cf-7f63-40de-889a-dd35d3ebd392",
   "metadata": {
    "colab": {
     "base_uri": "https://localhost:8080/",
     "height": 112
    },
    "id": "acf144cf-7f63-40de-889a-dd35d3ebd392",
    "outputId": "ccbdca48-9272-4e5b-ff81-96293251c7ba"
   },
   "outputs": [
    {
     "data": {
      "text/html": [
       "<div>\n",
       "<style scoped>\n",
       "    .dataframe tbody tr th:only-of-type {\n",
       "        vertical-align: middle;\n",
       "    }\n",
       "\n",
       "    .dataframe tbody tr th {\n",
       "        vertical-align: top;\n",
       "    }\n",
       "\n",
       "    .dataframe thead th {\n",
       "        text-align: right;\n",
       "    }\n",
       "</style>\n",
       "<table border=\"1\" class=\"dataframe\">\n",
       "  <thead>\n",
       "    <tr style=\"text-align: right;\">\n",
       "      <th></th>\n",
       "      <th>Id</th>\n",
       "      <th>BIRTHDATE</th>\n",
       "      <th>DEATHDATE</th>\n",
       "      <th>PREFIX</th>\n",
       "      <th>SUFFIX</th>\n",
       "      <th>MARITAL</th>\n",
       "      <th>RACE</th>\n",
       "      <th>ETHNICITY</th>\n",
       "      <th>GENDER</th>\n",
       "      <th>BIRTHPLACE</th>\n",
       "      <th>CITY</th>\n",
       "      <th>STATE</th>\n",
       "      <th>COUNTY</th>\n",
       "      <th>HEALTHCARE_EXPENSES</th>\n",
       "      <th>HEALTHCARE_COVERAGE</th>\n",
       "    </tr>\n",
       "  </thead>\n",
       "  <tbody>\n",
       "    <tr>\n",
       "      <th>0</th>\n",
       "      <td>f1639046-ecb1-b409-21d3-85a7e8e23c81</td>\n",
       "      <td>1957-08-31</td>\n",
       "      <td>NaT</td>\n",
       "      <td>Ms.</td>\n",
       "      <td>NaN</td>\n",
       "      <td>S</td>\n",
       "      <td>white</td>\n",
       "      <td>nonhispanic</td>\n",
       "      <td>F</td>\n",
       "      <td>Germantown  Maryland  US</td>\n",
       "      <td>Baltimore</td>\n",
       "      <td>Maryland</td>\n",
       "      <td>Baltimore city</td>\n",
       "      <td>59484.51</td>\n",
       "      <td>1455.08</td>\n",
       "    </tr>\n",
       "    <tr>\n",
       "      <th>1</th>\n",
       "      <td>f851859f-b0fe-8b36-9939-4276b96d302d</td>\n",
       "      <td>1950-11-22</td>\n",
       "      <td>NaT</td>\n",
       "      <td>Mrs.</td>\n",
       "      <td>NaN</td>\n",
       "      <td>M</td>\n",
       "      <td>black</td>\n",
       "      <td>nonhispanic</td>\n",
       "      <td>F</td>\n",
       "      <td>Clarksburg  Maryland  US</td>\n",
       "      <td>Baltimore</td>\n",
       "      <td>Maryland</td>\n",
       "      <td>Baltimore city</td>\n",
       "      <td>239428.05</td>\n",
       "      <td>12764.06</td>\n",
       "    </tr>\n",
       "  </tbody>\n",
       "</table>\n",
       "</div>"
      ],
      "text/plain": [
       "                                     Id  BIRTHDATE DEATHDATE PREFIX SUFFIX  \\\n",
       "0  f1639046-ecb1-b409-21d3-85a7e8e23c81 1957-08-31       NaT    Ms.    NaN   \n",
       "1  f851859f-b0fe-8b36-9939-4276b96d302d 1950-11-22       NaT   Mrs.    NaN   \n",
       "\n",
       "  MARITAL   RACE    ETHNICITY GENDER                BIRTHPLACE       CITY  \\\n",
       "0       S  white  nonhispanic      F  Germantown  Maryland  US  Baltimore   \n",
       "1       M  black  nonhispanic      F  Clarksburg  Maryland  US  Baltimore   \n",
       "\n",
       "      STATE          COUNTY  HEALTHCARE_EXPENSES  HEALTHCARE_COVERAGE  \n",
       "0  Maryland  Baltimore city             59484.51              1455.08  \n",
       "1  Maryland  Baltimore city            239428.05             12764.06  "
      ]
     },
     "execution_count": 7,
     "metadata": {},
     "output_type": "execute_result"
    }
   ],
   "source": [
    "# as seen below birthdate is shown fully to make it easy to calculate age\n",
    "pt.head(2)"
   ]
  },
  {
   "cell_type": "code",
   "execution_count": 8,
   "id": "41b765e4-7af8-4ef5-ab3e-7a4e0743483a",
   "metadata": {
    "id": "41b765e4-7af8-4ef5-ab3e-7a4e0743483a",
    "outputId": "e535f009-75c1-4349-f554-7afade31f007"
   },
   "outputs": [
    {
     "data": {
      "text/html": [
       "<div>\n",
       "<style scoped>\n",
       "    .dataframe tbody tr th:only-of-type {\n",
       "        vertical-align: middle;\n",
       "    }\n",
       "\n",
       "    .dataframe tbody tr th {\n",
       "        vertical-align: top;\n",
       "    }\n",
       "\n",
       "    .dataframe thead th {\n",
       "        text-align: right;\n",
       "    }\n",
       "</style>\n",
       "<table border=\"1\" class=\"dataframe\">\n",
       "  <thead>\n",
       "    <tr style=\"text-align: right;\">\n",
       "      <th></th>\n",
       "      <th>BIRTHDATE</th>\n",
       "      <th>DEATHDATE</th>\n",
       "      <th>HEALTHCARE_EXPENSES</th>\n",
       "      <th>HEALTHCARE_COVERAGE</th>\n",
       "    </tr>\n",
       "  </thead>\n",
       "  <tbody>\n",
       "    <tr>\n",
       "      <th>count</th>\n",
       "      <td>53068</td>\n",
       "      <td>28068</td>\n",
       "      <td>5.306800e+04</td>\n",
       "      <td>53068.000000</td>\n",
       "    </tr>\n",
       "    <tr>\n",
       "      <th>mean</th>\n",
       "      <td>1972-04-25 13:32:33.448405824</td>\n",
       "      <td>2002-11-21 20:03:41.633176576</td>\n",
       "      <td>1.269905e+06</td>\n",
       "      <td>24457.411116</td>\n",
       "    </tr>\n",
       "    <tr>\n",
       "      <th>min</th>\n",
       "      <td>1930-01-01 00:00:00</td>\n",
       "      <td>1930-01-31 00:00:00</td>\n",
       "      <td>9.318400e+02</td>\n",
       "      <td>0.000000</td>\n",
       "    </tr>\n",
       "    <tr>\n",
       "      <th>25%</th>\n",
       "      <td>1938-09-02 00:00:00</td>\n",
       "      <td>1994-01-17 18:00:00</td>\n",
       "      <td>1.259115e+06</td>\n",
       "      <td>5142.975000</td>\n",
       "    </tr>\n",
       "    <tr>\n",
       "      <th>50%</th>\n",
       "      <td>1953-10-22 00:00:00</td>\n",
       "      <td>2007-12-14 00:00:00</td>\n",
       "      <td>1.447207e+06</td>\n",
       "      <td>8666.905000</td>\n",
       "    </tr>\n",
       "    <tr>\n",
       "      <th>75%</th>\n",
       "      <td>2023-06-30 00:00:00</td>\n",
       "      <td>2017-05-16 00:00:00</td>\n",
       "      <td>1.575694e+06</td>\n",
       "      <td>14675.935000</td>\n",
       "    </tr>\n",
       "    <tr>\n",
       "      <th>max</th>\n",
       "      <td>2029-12-31 00:00:00</td>\n",
       "      <td>2029-12-15 00:00:00</td>\n",
       "      <td>2.354718e+06</td>\n",
       "      <td>643931.210000</td>\n",
       "    </tr>\n",
       "    <tr>\n",
       "      <th>std</th>\n",
       "      <td>NaN</td>\n",
       "      <td>NaN</td>\n",
       "      <td>5.075817e+05</td>\n",
       "      <td>58723.398224</td>\n",
       "    </tr>\n",
       "  </tbody>\n",
       "</table>\n",
       "</div>"
      ],
      "text/plain": [
       "                           BIRTHDATE                      DEATHDATE  \\\n",
       "count                          53068                          28068   \n",
       "mean   1972-04-25 13:32:33.448405824  2002-11-21 20:03:41.633176576   \n",
       "min              1930-01-01 00:00:00            1930-01-31 00:00:00   \n",
       "25%              1938-09-02 00:00:00            1994-01-17 18:00:00   \n",
       "50%              1953-10-22 00:00:00            2007-12-14 00:00:00   \n",
       "75%              2023-06-30 00:00:00            2017-05-16 00:00:00   \n",
       "max              2029-12-31 00:00:00            2029-12-15 00:00:00   \n",
       "std                              NaN                            NaN   \n",
       "\n",
       "       HEALTHCARE_EXPENSES  HEALTHCARE_COVERAGE  \n",
       "count         5.306800e+04         53068.000000  \n",
       "mean          1.269905e+06         24457.411116  \n",
       "min           9.318400e+02             0.000000  \n",
       "25%           1.259115e+06          5142.975000  \n",
       "50%           1.447207e+06          8666.905000  \n",
       "75%           1.575694e+06         14675.935000  \n",
       "max           2.354718e+06        643931.210000  \n",
       "std           5.075817e+05         58723.398224  "
      ]
     },
     "execution_count": 8,
     "metadata": {},
     "output_type": "execute_result"
    }
   ],
   "source": [
    "pt.describe()"
   ]
  },
  {
   "cell_type": "code",
   "execution_count": 9,
   "id": "1dda7d12-7db1-46ea-b6e1-ee809bda3427",
   "metadata": {
    "id": "1dda7d12-7db1-46ea-b6e1-ee809bda3427",
    "outputId": "b1e69164-7f4b-44f8-932e-8136f4d2c13f"
   },
   "outputs": [
    {
     "data": {
      "text/html": [
       "<div>\n",
       "<style scoped>\n",
       "    .dataframe tbody tr th:only-of-type {\n",
       "        vertical-align: middle;\n",
       "    }\n",
       "\n",
       "    .dataframe tbody tr th {\n",
       "        vertical-align: top;\n",
       "    }\n",
       "\n",
       "    .dataframe thead th {\n",
       "        text-align: right;\n",
       "    }\n",
       "</style>\n",
       "<table border=\"1\" class=\"dataframe\">\n",
       "  <thead>\n",
       "    <tr style=\"text-align: right;\">\n",
       "      <th></th>\n",
       "      <th>Id</th>\n",
       "      <th>PREFIX</th>\n",
       "      <th>SUFFIX</th>\n",
       "      <th>MARITAL</th>\n",
       "      <th>RACE</th>\n",
       "      <th>ETHNICITY</th>\n",
       "      <th>GENDER</th>\n",
       "      <th>BIRTHPLACE</th>\n",
       "      <th>CITY</th>\n",
       "      <th>STATE</th>\n",
       "      <th>COUNTY</th>\n",
       "    </tr>\n",
       "  </thead>\n",
       "  <tbody>\n",
       "    <tr>\n",
       "      <th>count</th>\n",
       "      <td>53068</td>\n",
       "      <td>52172</td>\n",
       "      <td>1744</td>\n",
       "      <td>51699</td>\n",
       "      <td>53068</td>\n",
       "      <td>53068</td>\n",
       "      <td>53068</td>\n",
       "      <td>53068</td>\n",
       "      <td>53068</td>\n",
       "      <td>53068</td>\n",
       "      <td>53068</td>\n",
       "    </tr>\n",
       "    <tr>\n",
       "      <th>unique</th>\n",
       "      <td>53068</td>\n",
       "      <td>3</td>\n",
       "      <td>3</td>\n",
       "      <td>2</td>\n",
       "      <td>5</td>\n",
       "      <td>2</td>\n",
       "      <td>2</td>\n",
       "      <td>563</td>\n",
       "      <td>448</td>\n",
       "      <td>1</td>\n",
       "      <td>24</td>\n",
       "    </tr>\n",
       "    <tr>\n",
       "      <th>top</th>\n",
       "      <td>f1639046-ecb1-b409-21d3-85a7e8e23c81</td>\n",
       "      <td>Mr.</td>\n",
       "      <td>MD</td>\n",
       "      <td>M</td>\n",
       "      <td>white</td>\n",
       "      <td>nonhispanic</td>\n",
       "      <td>M</td>\n",
       "      <td>Baltimore  Maryland  US</td>\n",
       "      <td>Baltimore</td>\n",
       "      <td>Maryland</td>\n",
       "      <td>Montgomery County</td>\n",
       "    </tr>\n",
       "    <tr>\n",
       "      <th>freq</th>\n",
       "      <td>1</td>\n",
       "      <td>29543</td>\n",
       "      <td>617</td>\n",
       "      <td>41414</td>\n",
       "      <td>30294</td>\n",
       "      <td>47402</td>\n",
       "      <td>30124</td>\n",
       "      <td>6049</td>\n",
       "      <td>6764</td>\n",
       "      <td>53068</td>\n",
       "      <td>10305</td>\n",
       "    </tr>\n",
       "  </tbody>\n",
       "</table>\n",
       "</div>"
      ],
      "text/plain": [
       "                                          Id PREFIX SUFFIX MARITAL   RACE  \\\n",
       "count                                  53068  52172   1744   51699  53068   \n",
       "unique                                 53068      3      3       2      5   \n",
       "top     f1639046-ecb1-b409-21d3-85a7e8e23c81    Mr.     MD       M  white   \n",
       "freq                                       1  29543    617   41414  30294   \n",
       "\n",
       "          ETHNICITY GENDER               BIRTHPLACE       CITY     STATE  \\\n",
       "count         53068  53068                    53068      53068     53068   \n",
       "unique            2      2                      563        448         1   \n",
       "top     nonhispanic      M  Baltimore  Maryland  US  Baltimore  Maryland   \n",
       "freq          47402  30124                     6049       6764     53068   \n",
       "\n",
       "                   COUNTY  \n",
       "count               53068  \n",
       "unique                 24  \n",
       "top     Montgomery County  \n",
       "freq                10305  "
      ]
     },
     "execution_count": 9,
     "metadata": {},
     "output_type": "execute_result"
    }
   ],
   "source": [
    "pt.describe(include=['object'])"
   ]
  },
  {
   "cell_type": "code",
   "execution_count": 10,
   "id": "434d52b5-9dec-425a-a59d-f33881067077",
   "metadata": {
    "id": "434d52b5-9dec-425a-a59d-f33881067077",
    "outputId": "0b078f34-ce31-435d-d252-cfb5e85dc8bf"
   },
   "outputs": [
    {
     "data": {
      "text/plain": [
       "Id                         0\n",
       "BIRTHDATE                  0\n",
       "DEATHDATE              25000\n",
       "PREFIX                   896\n",
       "SUFFIX                 51324\n",
       "MARITAL                 1369\n",
       "RACE                       0\n",
       "ETHNICITY                  0\n",
       "GENDER                     0\n",
       "BIRTHPLACE                 0\n",
       "CITY                       0\n",
       "STATE                      0\n",
       "COUNTY                     0\n",
       "HEALTHCARE_EXPENSES        0\n",
       "HEALTHCARE_COVERAGE        0\n",
       "dtype: int64"
      ]
     },
     "execution_count": 10,
     "metadata": {},
     "output_type": "execute_result"
    }
   ],
   "source": [
    "pt.isnull().sum()"
   ]
  },
  {
   "cell_type": "code",
   "execution_count": 12,
   "id": "cd2d8a82-0589-4f81-864f-166f589f2d64",
   "metadata": {
    "colab": {
     "base_uri": "https://localhost:8080/"
    },
    "id": "cd2d8a82-0589-4f81-864f-166f589f2d64",
    "outputId": "876f2ba5-c046-410c-ae11-13e54a4237f4"
   },
   "outputs": [
    {
     "data": {
      "text/plain": [
       "Id                     53068\n",
       "BIRTHDATE              12907\n",
       "DEATHDATE              13442\n",
       "PREFIX                     3\n",
       "SUFFIX                     3\n",
       "MARITAL                    2\n",
       "RACE                       5\n",
       "ETHNICITY                  2\n",
       "GENDER                     2\n",
       "BIRTHPLACE               563\n",
       "CITY                     448\n",
       "STATE                      1\n",
       "COUNTY                    24\n",
       "HEALTHCARE_EXPENSES    53047\n",
       "HEALTHCARE_COVERAGE    47785\n",
       "dtype: int64"
      ]
     },
     "execution_count": 12,
     "metadata": {},
     "output_type": "execute_result"
    }
   ],
   "source": [
    "pt.nunique()"
   ]
  },
  {
   "cell_type": "code",
   "execution_count": 13,
   "id": "CDB4sJxQPKa-",
   "metadata": {
    "colab": {
     "base_uri": "https://localhost:8080/"
    },
    "id": "CDB4sJxQPKa-",
    "outputId": "a63905ba-d7a6-4d14-ced3-4bf5b2126bc5"
   },
   "outputs": [
    {
     "data": {
      "text/plain": [
       "Id                             object\n",
       "BIRTHDATE              datetime64[ns]\n",
       "DEATHDATE              datetime64[ns]\n",
       "PREFIX                         object\n",
       "SUFFIX                         object\n",
       "MARITAL                        object\n",
       "RACE                           object\n",
       "ETHNICITY                      object\n",
       "GENDER                         object\n",
       "BIRTHPLACE                     object\n",
       "CITY                           object\n",
       "STATE                          object\n",
       "COUNTY                         object\n",
       "HEALTHCARE_EXPENSES           float64\n",
       "HEALTHCARE_COVERAGE           float64\n",
       "dtype: object"
      ]
     },
     "execution_count": 13,
     "metadata": {},
     "output_type": "execute_result"
    }
   ],
   "source": [
    "pt.dtypes"
   ]
  },
  {
   "cell_type": "code",
   "execution_count": 16,
   "id": "d880caa3-ac03-4266-a84d-cee38a115b0e",
   "metadata": {
    "id": "d880caa3-ac03-4266-a84d-cee38a115b0e",
    "outputId": "28e77a97-9a14-4317-ca0d-5ffd13921f99"
   },
   "outputs": [
    {
     "data": {
      "text/plain": [
       "0"
      ]
     },
     "execution_count": 16,
     "metadata": {},
     "output_type": "execute_result"
    }
   ],
   "source": [
    "pt.duplicated().sum()"
   ]
  },
  {
   "cell_type": "code",
   "execution_count": 17,
   "id": "y5X0wQI4PKeM",
   "metadata": {
    "colab": {
     "base_uri": "https://localhost:8080/"
    },
    "id": "y5X0wQI4PKeM",
    "outputId": "99e2102b-d915-4e27-9482-71e7c8cf1292"
   },
   "outputs": [
    {
     "data": {
      "text/plain": [
       "(53068, 16)"
      ]
     },
     "execution_count": 17,
     "metadata": {},
     "output_type": "execute_result"
    }
   ],
   "source": [
    "pt.shape"
   ]
  },
  {
   "cell_type": "code",
   "execution_count": 18,
   "id": "onnzEwkUPKkh",
   "metadata": {
    "colab": {
     "base_uri": "https://localhost:8080/",
     "height": 147
    },
    "id": "onnzEwkUPKkh",
    "outputId": "4c186e9e-3ed2-438d-e489-074ef51a43c3"
   },
   "outputs": [
    {
     "data": {
      "text/html": [
       "<div>\n",
       "<style scoped>\n",
       "    .dataframe tbody tr th:only-of-type {\n",
       "        vertical-align: middle;\n",
       "    }\n",
       "\n",
       "    .dataframe tbody tr th {\n",
       "        vertical-align: top;\n",
       "    }\n",
       "\n",
       "    .dataframe thead th {\n",
       "        text-align: right;\n",
       "    }\n",
       "</style>\n",
       "<table border=\"1\" class=\"dataframe\">\n",
       "  <thead>\n",
       "    <tr style=\"text-align: right;\">\n",
       "      <th></th>\n",
       "      <th>Id</th>\n",
       "      <th>BIRTHDATE</th>\n",
       "      <th>DEATHDATE</th>\n",
       "      <th>PREFIX</th>\n",
       "      <th>SUFFIX</th>\n",
       "      <th>MARITAL</th>\n",
       "      <th>RACE</th>\n",
       "      <th>ETHNICITY</th>\n",
       "      <th>GENDER</th>\n",
       "      <th>BIRTHPLACE</th>\n",
       "      <th>CITY</th>\n",
       "      <th>STATE</th>\n",
       "      <th>COUNTY</th>\n",
       "      <th>HEALTHCARE_EXPENSES</th>\n",
       "      <th>HEALTHCARE_COVERAGE</th>\n",
       "      <th>AGE</th>\n",
       "    </tr>\n",
       "  </thead>\n",
       "  <tbody>\n",
       "    <tr>\n",
       "      <th>0</th>\n",
       "      <td>f1639046-ecb1-b409-21d3-85a7e8e23c81</td>\n",
       "      <td>1957-08-31</td>\n",
       "      <td>NaT</td>\n",
       "      <td>Ms.</td>\n",
       "      <td>NaN</td>\n",
       "      <td>S</td>\n",
       "      <td>white</td>\n",
       "      <td>nonhispanic</td>\n",
       "      <td>F</td>\n",
       "      <td>Germantown  Maryland  US</td>\n",
       "      <td>Baltimore</td>\n",
       "      <td>Maryland</td>\n",
       "      <td>Baltimore city</td>\n",
       "      <td>59484.51</td>\n",
       "      <td>1455.08</td>\n",
       "      <td>66</td>\n",
       "    </tr>\n",
       "    <tr>\n",
       "      <th>1</th>\n",
       "      <td>f851859f-b0fe-8b36-9939-4276b96d302d</td>\n",
       "      <td>1950-11-22</td>\n",
       "      <td>NaT</td>\n",
       "      <td>Mrs.</td>\n",
       "      <td>NaN</td>\n",
       "      <td>M</td>\n",
       "      <td>black</td>\n",
       "      <td>nonhispanic</td>\n",
       "      <td>F</td>\n",
       "      <td>Clarksburg  Maryland  US</td>\n",
       "      <td>Baltimore</td>\n",
       "      <td>Maryland</td>\n",
       "      <td>Baltimore city</td>\n",
       "      <td>239428.05</td>\n",
       "      <td>12764.06</td>\n",
       "      <td>73</td>\n",
       "    </tr>\n",
       "  </tbody>\n",
       "</table>\n",
       "</div>"
      ],
      "text/plain": [
       "                                     Id  BIRTHDATE DEATHDATE PREFIX SUFFIX  \\\n",
       "0  f1639046-ecb1-b409-21d3-85a7e8e23c81 1957-08-31       NaT    Ms.    NaN   \n",
       "1  f851859f-b0fe-8b36-9939-4276b96d302d 1950-11-22       NaT   Mrs.    NaN   \n",
       "\n",
       "  MARITAL   RACE    ETHNICITY GENDER                BIRTHPLACE       CITY  \\\n",
       "0       S  white  nonhispanic      F  Germantown  Maryland  US  Baltimore   \n",
       "1       M  black  nonhispanic      F  Clarksburg  Maryland  US  Baltimore   \n",
       "\n",
       "      STATE          COUNTY  HEALTHCARE_EXPENSES  HEALTHCARE_COVERAGE  AGE  \n",
       "0  Maryland  Baltimore city             59484.51              1455.08   66  \n",
       "1  Maryland  Baltimore city            239428.05             12764.06   73  "
      ]
     },
     "execution_count": 18,
     "metadata": {},
     "output_type": "execute_result"
    }
   ],
   "source": [
    "import datetime\n",
    "pt['AGE'] = (datetime.datetime.now() - pt['BIRTHDATE']).dt.days // 365\n",
    "pt.head(2)"
   ]
  },
  {
   "cell_type": "code",
   "execution_count": 19,
   "id": "2bb22cdb-e191-4bc5-959d-ee232d281b6e",
   "metadata": {
    "colab": {
     "base_uri": "https://localhost:8080/",
     "height": 147
    },
    "id": "2bb22cdb-e191-4bc5-959d-ee232d281b6e",
    "outputId": "e0ff67d3-c49d-4726-c5e3-05b68b938028"
   },
   "outputs": [
    {
     "data": {
      "text/html": [
       "<div>\n",
       "<style scoped>\n",
       "    .dataframe tbody tr th:only-of-type {\n",
       "        vertical-align: middle;\n",
       "    }\n",
       "\n",
       "    .dataframe tbody tr th {\n",
       "        vertical-align: top;\n",
       "    }\n",
       "\n",
       "    .dataframe thead th {\n",
       "        text-align: right;\n",
       "    }\n",
       "</style>\n",
       "<table border=\"1\" class=\"dataframe\">\n",
       "  <thead>\n",
       "    <tr style=\"text-align: right;\">\n",
       "      <th></th>\n",
       "      <th>Id</th>\n",
       "      <th>BIRTHDATE</th>\n",
       "      <th>DEATHDATE</th>\n",
       "      <th>PREFIX</th>\n",
       "      <th>SUFFIX</th>\n",
       "      <th>MARITAL</th>\n",
       "      <th>RACE</th>\n",
       "      <th>ETHNICITY</th>\n",
       "      <th>GENDER</th>\n",
       "      <th>BIRTHPLACE</th>\n",
       "      <th>CITY</th>\n",
       "      <th>STATE</th>\n",
       "      <th>COUNTY</th>\n",
       "      <th>HEALTHCARE_EXPENSES</th>\n",
       "      <th>HEALTHCARE_COVERAGE</th>\n",
       "      <th>AGE</th>\n",
       "    </tr>\n",
       "  </thead>\n",
       "  <tbody>\n",
       "    <tr>\n",
       "      <th>0</th>\n",
       "      <td>f1639046-ecb1-b409-21d3-85a7e8e23c81</td>\n",
       "      <td>1957-08-31</td>\n",
       "      <td>NaT</td>\n",
       "      <td>Ms.</td>\n",
       "      <td>NaN</td>\n",
       "      <td>S</td>\n",
       "      <td>white</td>\n",
       "      <td>nonhispanic</td>\n",
       "      <td>F</td>\n",
       "      <td>Germantown  Maryland  US</td>\n",
       "      <td>Baltimore</td>\n",
       "      <td>Maryland</td>\n",
       "      <td>Baltimore city</td>\n",
       "      <td>59484.51</td>\n",
       "      <td>1455.08</td>\n",
       "      <td>66</td>\n",
       "    </tr>\n",
       "    <tr>\n",
       "      <th>1</th>\n",
       "      <td>f851859f-b0fe-8b36-9939-4276b96d302d</td>\n",
       "      <td>1950-11-22</td>\n",
       "      <td>NaT</td>\n",
       "      <td>Mrs.</td>\n",
       "      <td>NaN</td>\n",
       "      <td>M</td>\n",
       "      <td>black</td>\n",
       "      <td>nonhispanic</td>\n",
       "      <td>F</td>\n",
       "      <td>Clarksburg  Maryland  US</td>\n",
       "      <td>Baltimore</td>\n",
       "      <td>Maryland</td>\n",
       "      <td>Baltimore city</td>\n",
       "      <td>239428.05</td>\n",
       "      <td>12764.06</td>\n",
       "      <td>73</td>\n",
       "    </tr>\n",
       "  </tbody>\n",
       "</table>\n",
       "</div>"
      ],
      "text/plain": [
       "                                     Id  BIRTHDATE DEATHDATE PREFIX SUFFIX  \\\n",
       "0  f1639046-ecb1-b409-21d3-85a7e8e23c81 1957-08-31       NaT    Ms.    NaN   \n",
       "1  f851859f-b0fe-8b36-9939-4276b96d302d 1950-11-22       NaT   Mrs.    NaN   \n",
       "\n",
       "  MARITAL   RACE    ETHNICITY GENDER                BIRTHPLACE       CITY  \\\n",
       "0       S  white  nonhispanic      F  Germantown  Maryland  US  Baltimore   \n",
       "1       M  black  nonhispanic      F  Clarksburg  Maryland  US  Baltimore   \n",
       "\n",
       "      STATE          COUNTY  HEALTHCARE_EXPENSES  HEALTHCARE_COVERAGE  AGE  \n",
       "0  Maryland  Baltimore city             59484.51              1455.08   66  \n",
       "1  Maryland  Baltimore city            239428.05             12764.06   73  "
      ]
     },
     "execution_count": 19,
     "metadata": {},
     "output_type": "execute_result"
    }
   ],
   "source": [
    "# Filter patients older than 65. The concept of \"elderly\" is often defined as individuals aged 65 and over. (Singh & Bajorek, 2014).\n",
    "elderly=pt[pt['AGE'] >=65]\n",
    "elderly.head(2)"
   ]
  },
  {
   "cell_type": "code",
   "execution_count": 20,
   "id": "jEVUfhPO4k8a",
   "metadata": {
    "colab": {
     "base_uri": "https://localhost:8080/"
    },
    "id": "jEVUfhPO4k8a",
    "outputId": "5200afe0-0f36-4bf0-9f96-e2579d3b7dcf"
   },
   "outputs": [
    {
     "name": "stdout",
     "output_type": "stream",
     "text": [
      "<class 'pandas.core.frame.DataFrame'>\n",
      "Index: 30461 entries, 0 to 53057\n",
      "Data columns (total 16 columns):\n",
      " #   Column               Non-Null Count  Dtype         \n",
      "---  ------               --------------  -----         \n",
      " 0   Id                   30461 non-null  object        \n",
      " 1   BIRTHDATE            30461 non-null  datetime64[ns]\n",
      " 2   DEATHDATE            13890 non-null  datetime64[ns]\n",
      " 3   PREFIX               29949 non-null  object        \n",
      " 4   SUFFIX               1017 non-null   object        \n",
      " 5   MARITAL              29676 non-null  object        \n",
      " 6   RACE                 30461 non-null  object        \n",
      " 7   ETHNICITY            30461 non-null  object        \n",
      " 8   GENDER               30461 non-null  object        \n",
      " 9   BIRTHPLACE           30461 non-null  object        \n",
      " 10  CITY                 30461 non-null  object        \n",
      " 11  STATE                30461 non-null  object        \n",
      " 12  COUNTY               30461 non-null  object        \n",
      " 13  HEALTHCARE_EXPENSES  30461 non-null  float64       \n",
      " 14  HEALTHCARE_COVERAGE  30461 non-null  float64       \n",
      " 15  AGE                  30461 non-null  int64         \n",
      "dtypes: datetime64[ns](2), float64(2), int64(1), object(11)\n",
      "memory usage: 4.0+ MB\n"
     ]
    }
   ],
   "source": [
    "elderly.info()"
   ]
  },
  {
   "cell_type": "code",
   "execution_count": 21,
   "id": "f93fb595-c59c-47d2-9dcd-12bec1cb6b41",
   "metadata": {
    "colab": {
     "base_uri": "https://localhost:8080/"
    },
    "id": "f93fb595-c59c-47d2-9dcd-12bec1cb6b41",
    "outputId": "0f9408cf-0410-45d9-c7bb-1fde717aab35"
   },
   "outputs": [
    {
     "data": {
      "text/plain": [
       "Id                     30461\n",
       "BIRTHDATE               8402\n",
       "DEATHDATE               8034\n",
       "PREFIX                     3\n",
       "SUFFIX                     3\n",
       "MARITAL                    2\n",
       "RACE                       5\n",
       "ETHNICITY                  2\n",
       "GENDER                     2\n",
       "BIRTHPLACE               536\n",
       "CITY                     425\n",
       "STATE                      1\n",
       "COUNTY                    24\n",
       "HEALTHCARE_EXPENSES    30451\n",
       "HEALTHCARE_COVERAGE    28098\n",
       "AGE                       30\n",
       "dtype: int64"
      ]
     },
     "execution_count": 21,
     "metadata": {},
     "output_type": "execute_result"
    }
   ],
   "source": [
    "elderly.nunique()"
   ]
  },
  {
   "cell_type": "code",
   "execution_count": 22,
   "id": "Ur1Q7G1Ge3e7",
   "metadata": {
    "colab": {
     "base_uri": "https://localhost:8080/"
    },
    "id": "Ur1Q7G1Ge3e7",
    "outputId": "436dd0d8-cfef-46e6-8def-a0cc025e22be"
   },
   "outputs": [
    {
     "data": {
      "text/plain": [
       "(30461, 16)"
      ]
     },
     "execution_count": 22,
     "metadata": {},
     "output_type": "execute_result"
    }
   ],
   "source": [
    "elderly.shape"
   ]
  },
  {
   "cell_type": "code",
   "execution_count": 23,
   "id": "0b093674-168d-4c63-b648-33f038562c58",
   "metadata": {
    "id": "0b093674-168d-4c63-b648-33f038562c58"
   },
   "outputs": [],
   "source": [
    "#import libraries\n",
    "import pyspark\n",
    "import pyspark.mllib.stat as st\n",
    "import pyspark.ml.feature as ft\n",
    "import pyspark.sql.types as typ\n",
    "import pyspark.ml.classification as cl\n",
    "import pyspark.ml.tuning as tune\n",
    "from pyspark.sql import functions as F\n",
    "\n",
    "from pyspark.ml import Pipeline\n",
    "\n",
    "import numpy as np\n",
    "import matplotlib.pyplot as plt\n",
    "from pyspark.sql import SparkSession\n",
    "from pyspark.sql.functions import col\n",
    "from pyspark.sql.functions import sum, avg\n",
    "\n",
    "import numpy as np\n",
    "import matplotlib.pyplot as plt"
   ]
  },
  {
   "cell_type": "code",
   "execution_count": 24,
   "id": "14a41e87-ef64-42b4-ae74-3a27917f819e",
   "metadata": {
    "id": "14a41e87-ef64-42b4-ae74-3a27917f819e"
   },
   "outputs": [
    {
     "name": "stderr",
     "output_type": "stream",
     "text": [
      "Setting default log level to \"WARN\".\n",
      "To adjust logging level use sc.setLogLevel(newLevel). For SparkR, use setLogLevel(newLevel).\n",
      "24/04/24 09:18:12 WARN NativeCodeLoader: Unable to load native-hadoop library for your platform... using builtin-java classes where applicable\n"
     ]
    }
   ],
   "source": [
    "from pyspark.sql import SparkSession\n",
    "spark = SparkSession.builder.getOrCreate()\n",
    "sc = spark.sparkContext"
   ]
  },
  {
   "cell_type": "code",
   "execution_count": 25,
   "id": "c2b48a71-0158-4ee5-8c6a-d41dc964d7c4",
   "metadata": {
    "colab": {
     "base_uri": "https://localhost:8080/",
     "height": 196
    },
    "id": "c2b48a71-0158-4ee5-8c6a-d41dc964d7c4",
    "outputId": "e66cf61e-8b02-41d4-89b0-353977723aa1"
   },
   "outputs": [
    {
     "data": {
      "text/html": [
       "\n",
       "        <div>\n",
       "            <p><b>SparkContext</b></p>\n",
       "\n",
       "            <p><a href=\"http://es-macbook-pro.cable.rcn.com:4040\">Spark UI</a></p>\n",
       "\n",
       "            <dl>\n",
       "              <dt>Version</dt>\n",
       "                <dd><code>v3.4.1</code></dd>\n",
       "              <dt>Master</dt>\n",
       "                <dd><code>local[*]</code></dd>\n",
       "              <dt>AppName</dt>\n",
       "                <dd><code>pyspark-shell</code></dd>\n",
       "            </dl>\n",
       "        </div>\n",
       "        "
      ],
      "text/plain": [
       "<SparkContext master=local[*] appName=pyspark-shell>"
      ]
     },
     "execution_count": 25,
     "metadata": {},
     "output_type": "execute_result"
    }
   ],
   "source": [
    "sc"
   ]
  },
  {
   "cell_type": "code",
   "execution_count": 26,
   "id": "FHMlOIGtotDc",
   "metadata": {
    "id": "FHMlOIGtotDc"
   },
   "outputs": [],
   "source": [
    "# convert elderly,patients 65 and older to spark dataframe\n",
    "ptpy = spark.createDataFrame(elderly)"
   ]
  },
  {
   "cell_type": "code",
   "execution_count": 27,
   "id": "2GqigYHMotGk",
   "metadata": {
    "colab": {
     "base_uri": "https://localhost:8080/"
    },
    "id": "2GqigYHMotGk",
    "outputId": "39cdd6b7-8dd1-4b1e-e9b0-3275daa3c29c"
   },
   "outputs": [
    {
     "name": "stderr",
     "output_type": "stream",
     "text": [
      "[Stage 0:>                                                          (0 + 1) / 1]\r"
     ]
    },
    {
     "name": "stdout",
     "output_type": "stream",
     "text": [
      "+--------------------+-------------------+---------+------+------+-------+-----+-----------+------+--------------------+---------+--------+--------------+-------------------+-------------------+---+\n",
      "|                  Id|          BIRTHDATE|DEATHDATE|PREFIX|SUFFIX|MARITAL| RACE|  ETHNICITY|GENDER|          BIRTHPLACE|     CITY|   STATE|        COUNTY|HEALTHCARE_EXPENSES|HEALTHCARE_COVERAGE|AGE|\n",
      "+--------------------+-------------------+---------+------+------+-------+-----+-----------+------+--------------------+---------+--------+--------------+-------------------+-------------------+---+\n",
      "|f1639046-ecb1-b40...|1957-08-31 00:00:00|     null|   Ms.|   NaN|      S|white|nonhispanic|     F|Germantown  Maryl...|Baltimore|Maryland|Baltimore city|           59484.51|            1455.08| 66|\n",
      "|f851859f-b0fe-8b3...|1950-11-22 00:00:00|     null|  Mrs.|   NaN|      M|black|nonhispanic|     F|Clarksburg  Maryl...|Baltimore|Maryland|Baltimore city|          239428.05|           12764.06| 73|\n",
      "+--------------------+-------------------+---------+------+------+-------+-----+-----------+------+--------------------+---------+--------+--------------+-------------------+-------------------+---+\n",
      "only showing top 2 rows\n",
      "\n"
     ]
    },
    {
     "name": "stderr",
     "output_type": "stream",
     "text": [
      "                                                                                \r"
     ]
    }
   ],
   "source": [
    "ptpy.show(2)"
   ]
  },
  {
   "cell_type": "code",
   "execution_count": 29,
   "id": "8c413e00-6392-4346-9e22-372675037df6",
   "metadata": {},
   "outputs": [
    {
     "data": {
      "text/plain": [
       "30461"
      ]
     },
     "execution_count": 29,
     "metadata": {},
     "output_type": "execute_result"
    }
   ],
   "source": [
    "ptpynum_rows = ptpy.count()\n",
    "ptpynum_rows"
   ]
  },
  {
   "cell_type": "code",
   "execution_count": 30,
   "id": "8bd5a912-eb99-4ebe-87ee-50ac446fda61",
   "metadata": {
    "colab": {
     "base_uri": "https://localhost:8080/"
    },
    "id": "8bd5a912-eb99-4ebe-87ee-50ac446fda61",
    "outputId": "0cee597a-e3a0-4bc8-ac2b-6bb3b85113dc"
   },
   "outputs": [
    {
     "name": "stdout",
     "output_type": "stream",
     "text": [
      "root\n",
      " |-- Id: string (nullable = true)\n",
      " |-- BIRTHDATE: timestamp (nullable = true)\n",
      " |-- DEATHDATE: timestamp (nullable = true)\n",
      " |-- PREFIX: string (nullable = true)\n",
      " |-- SUFFIX: string (nullable = true)\n",
      " |-- MARITAL: string (nullable = true)\n",
      " |-- RACE: string (nullable = true)\n",
      " |-- ETHNICITY: string (nullable = true)\n",
      " |-- GENDER: string (nullable = true)\n",
      " |-- BIRTHPLACE: string (nullable = true)\n",
      " |-- CITY: string (nullable = true)\n",
      " |-- STATE: string (nullable = true)\n",
      " |-- COUNTY: string (nullable = true)\n",
      " |-- HEALTHCARE_EXPENSES: double (nullable = true)\n",
      " |-- HEALTHCARE_COVERAGE: double (nullable = true)\n",
      " |-- AGE: long (nullable = true)\n",
      "\n"
     ]
    }
   ],
   "source": [
    "# Print the schema of the PySpark DataFrame 'ptpy'\n",
    "ptpy.printSchema()\n"
   ]
  },
  {
   "cell_type": "code",
   "execution_count": 31,
   "id": "672f8f0f-12f9-4634-929a-c95e5ed7d016",
   "metadata": {},
   "outputs": [
    {
     "name": "stderr",
     "output_type": "stream",
     "text": [
      "                                                                                \r"
     ]
    }
   ],
   "source": [
    "cdpy=spark.read.csv(\"conditions.csv\",header=True, inferSchema=True)"
   ]
  },
  {
   "cell_type": "code",
   "execution_count": 32,
   "id": "cd831759-cc44-4eae-9cf7-3d2ac8d300e5",
   "metadata": {},
   "outputs": [
    {
     "name": "stdout",
     "output_type": "stream",
     "text": [
      "+----------+----+--------------------+--------------------+---------+--------------------+\n",
      "|     START|STOP|             PATIENT|           ENCOUNTER|     CODE|         DESCRIPTION|\n",
      "+----------+----+--------------------+--------------------+---------+--------------------+\n",
      "|1973-12-22|null|f1639046-ecb1-b40...|47a338d3-4e76-fdf...| 19169002|Miscarriage in fi...|\n",
      "|1992-12-02|null|f851859f-b0fe-8b3...|ed3e50dd-ebdf-eae...|162864005|Body mass index 3...|\n",
      "+----------+----+--------------------+--------------------+---------+--------------------+\n",
      "only showing top 2 rows\n",
      "\n"
     ]
    }
   ],
   "source": [
    "cdpy.show(2)"
   ]
  },
  {
   "cell_type": "code",
   "execution_count": 33,
   "id": "926e058e-6597-4270-8677-2b989230b4b9",
   "metadata": {},
   "outputs": [
    {
     "name": "stdout",
     "output_type": "stream",
     "text": [
      "root\n",
      " |-- START: date (nullable = true)\n",
      " |-- STOP: date (nullable = true)\n",
      " |-- PATIENT: string (nullable = true)\n",
      " |-- ENCOUNTER: string (nullable = true)\n",
      " |-- CODE: long (nullable = true)\n",
      " |-- DESCRIPTION: string (nullable = true)\n",
      "\n"
     ]
    }
   ],
   "source": [
    "cdpy.printSchema()"
   ]
  },
  {
   "cell_type": "code",
   "execution_count": 34,
   "id": "2ede0724-92a8-4596-a4bf-df34ab9b0749",
   "metadata": {},
   "outputs": [
    {
     "data": {
      "text/plain": [
       "781304"
      ]
     },
     "execution_count": 34,
     "metadata": {},
     "output_type": "execute_result"
    }
   ],
   "source": [
    "cdpynum_rows = cdpy.count()\n",
    "cdpynum_rows"
   ]
  },
  {
   "cell_type": "code",
   "execution_count": 35,
   "id": "3d3db2d2-1e53-46c7-b686-ca0b52d36f0c",
   "metadata": {},
   "outputs": [
    {
     "data": {
      "text/plain": [
       "['START', 'STOP', 'PATIENT', 'ENCOUNTER', 'CODE', 'DESCRIPTION']"
      ]
     },
     "execution_count": 35,
     "metadata": {},
     "output_type": "execute_result"
    }
   ],
   "source": [
    "cdpy.columns"
   ]
  },
  {
   "cell_type": "code",
   "execution_count": 36,
   "id": "219e15b6-dec2-41e8-b2e0-694f89bb7a86",
   "metadata": {
    "colab": {
     "base_uri": "https://localhost:8080/"
    },
    "id": "219e15b6-dec2-41e8-b2e0-694f89bb7a86",
    "outputId": "6bfb30b3-509c-4e8d-fa2f-6c0b135211b7"
   },
   "outputs": [
    {
     "data": {
      "text/plain": [
       "['START', 'STOP', 'PATIENT', 'ENCOUNTER', 'CODE', 'DESCRIPTION']"
      ]
     },
     "execution_count": 36,
     "metadata": {},
     "output_type": "execute_result"
    }
   ],
   "source": [
    "cdpy.columns"
   ]
  },
  {
   "cell_type": "code",
   "execution_count": 37,
   "id": "407f2b07-0e6f-4eba-9d44-002177cbfaa6",
   "metadata": {
    "id": "407f2b07-0e6f-4eba-9d44-002177cbfaa6"
   },
   "outputs": [],
   "source": [
    "# join conditions and patient tables, with only patients above 65 years old\n",
    "joined_df = ptpy.join(cdpy, ptpy['id'] == cdpy['PATIENT'], 'inner')"
   ]
  },
  {
   "cell_type": "code",
   "execution_count": 38,
   "id": "78Z1c56gaKpk",
   "metadata": {
    "colab": {
     "base_uri": "https://localhost:8080/"
    },
    "id": "78Z1c56gaKpk",
    "outputId": "be2b0edd-02b9-480f-9c4f-999ab66e1cd3"
   },
   "outputs": [
    {
     "name": "stderr",
     "output_type": "stream",
     "text": [
      "                                                                                \r"
     ]
    },
    {
     "data": {
      "text/plain": [
       "[Row(Id='93c24b3d-a235-7fac-b87b-56baf8d1a7ff', BIRTHDATE=datetime.datetime(1934, 5, 31, 0, 0), DEATHDATE=datetime.datetime(1975, 6, 5, 0, 0), PREFIX='Mr.', SUFFIX='NaN', MARITAL='M', RACE='white', ETHNICITY='hispanic', GENDER='M', BIRTHPLACE='Lima  Lima Province  PE', CITY='Annapolis', STATE='Maryland', COUNTY='Anne Arundel County', HEALTHCARE_EXPENSES=1038772.91, HEALTHCARE_COVERAGE=2787.3, AGE=89, START=datetime.date(1956, 8, 2), STOP=None, PATIENT='93c24b3d-a235-7fac-b87b-56baf8d1a7ff', ENCOUNTER='0f4c7c06-d42e-8d6f-0090-fa4325d093a4', CODE=87433001, DESCRIPTION='Pulmonary emphysema (disorder)'),\n",
       " Row(Id='93c24b3d-a235-7fac-b87b-56baf8d1a7ff', BIRTHDATE=datetime.datetime(1934, 5, 31, 0, 0), DEATHDATE=datetime.datetime(1975, 6, 5, 0, 0), PREFIX='Mr.', SUFFIX='NaN', MARITAL='M', RACE='white', ETHNICITY='hispanic', GENDER='M', BIRTHPLACE='Lima  Lima Province  PE', CITY='Annapolis', STATE='Maryland', COUNTY='Anne Arundel County', HEALTHCARE_EXPENSES=1038772.91, HEALTHCARE_COVERAGE=2787.3, AGE=89, START=datetime.date(1975, 6, 5), STOP=None, PATIENT='93c24b3d-a235-7fac-b87b-56baf8d1a7ff', ENCOUNTER='e4cbd43a-67f6-6396-089f-9c8fd15b2fab', CODE=230690007, DESCRIPTION='Stroke')]"
      ]
     },
     "execution_count": 38,
     "metadata": {},
     "output_type": "execute_result"
    }
   ],
   "source": [
    "joined_df.take(2)"
   ]
  },
  {
   "cell_type": "code",
   "execution_count": 39,
   "id": "55ca3f67-4e13-4ddb-a762-ccd196436369",
   "metadata": {
    "colab": {
     "base_uri": "https://localhost:8080/"
    },
    "id": "55ca3f67-4e13-4ddb-a762-ccd196436369",
    "outputId": "add5822a-9b91-42c9-81f9-f9a4bc640686"
   },
   "outputs": [
    {
     "name": "stderr",
     "output_type": "stream",
     "text": [
      "                                                                                \r"
     ]
    },
    {
     "data": {
      "text/plain": [
       "456571"
      ]
     },
     "execution_count": 39,
     "metadata": {},
     "output_type": "execute_result"
    }
   ],
   "source": [
    "#count rows\n",
    "joined_dfnum_rows = joined_df.count()\n",
    "joined_dfnum_rows"
   ]
  },
  {
   "cell_type": "code",
   "execution_count": 40,
   "id": "cfe1feb2-98f0-4b48-8dfd-c1508afaedc3",
   "metadata": {
    "colab": {
     "base_uri": "https://localhost:8080/"
    },
    "id": "cfe1feb2-98f0-4b48-8dfd-c1508afaedc3",
    "outputId": "5f68cc1d-617e-4d8e-d7be-934c52a9b54e"
   },
   "outputs": [
    {
     "name": "stderr",
     "output_type": "stream",
     "text": [
      "                                                                                \r"
     ]
    },
    {
     "name": "stdout",
     "output_type": "stream",
     "text": [
      "Count of distinct patients: 30460\n"
     ]
    }
   ],
   "source": [
    "# Find the count of distinct patients IN JOINED DATA\n",
    "distinct_patients_countid = joined_df.select(\"Id\").distinct().count()\n",
    "\n",
    "# Display the count of distinct patients\n",
    "print(\"Count of distinct patients:\", distinct_patients_countid)"
   ]
  },
  {
   "cell_type": "code",
   "execution_count": 41,
   "id": "303a8b24-3321-4a50-a8c6-973a61396461",
   "metadata": {
    "colab": {
     "base_uri": "https://localhost:8080/"
    },
    "id": "303a8b24-3321-4a50-a8c6-973a61396461",
    "outputId": "fbe074f3-e6e2-474e-e89e-97629924befd"
   },
   "outputs": [
    {
     "name": "stderr",
     "output_type": "stream",
     "text": [
      "                                                                                \r"
     ]
    },
    {
     "data": {
      "text/plain": [
       "[Row(DESCRIPTION='Viral sinusitis (disorder)', count=34356),\n",
       " Row(DESCRIPTION='Acute viral pharyngitis (disorder)', count=18656),\n",
       " Row(DESCRIPTION='Body mass index 30+ - obesity (finding)', count=18107),\n",
       " Row(DESCRIPTION='Suspected COVID-19', count=17464),\n",
       " Row(DESCRIPTION='COVID-19', count=17091)]"
      ]
     },
     "execution_count": 41,
     "metadata": {},
     "output_type": "execute_result"
    }
   ],
   "source": [
    "description_counts = joined_df.groupBy(\"DESCRIPTION\").count().orderBy(F.desc(\"count\"))\n",
    "description_counts.take(5)"
   ]
  },
  {
   "cell_type": "code",
   "execution_count": 42,
   "id": "48db89d5-5b8e-4c66-a63a-2d18f4ab8a2c",
   "metadata": {
    "colab": {
     "base_uri": "https://localhost:8080/",
     "height": 694
    },
    "id": "48db89d5-5b8e-4c66-a63a-2d18f4ab8a2c",
    "outputId": "73a68328-088c-4a8f-a15b-f5845608e1ee"
   },
   "outputs": [
    {
     "name": "stderr",
     "output_type": "stream",
     "text": [
      "                                                                                \r"
     ]
    },
    {
     "data": {
      "image/png": "[encoded data removed]",
      "text/plain": [
       "<Figure size 1000x600 with 1 Axes>"
      ]
     },
     "metadata": {},
     "output_type": "display_data"
    }
   ],
   "source": [
    "\n",
    "\n",
    "# Convert to Pandas DataFrame for plotting\n",
    "description_counts_pd = description_counts.limit(10).toPandas()\n",
    "\n",
    "# Plotting\n",
    "plt.figure(figsize=(10, 6))\n",
    "sns.barplot(x='count', y='DESCRIPTION', data=description_counts_pd, palette='viridis')\n",
    "plt.xlabel('Count')\n",
    "plt.ylabel('Description')\n",
    "plt.title('Top 10 Most Frequent Disease Descriptions')\n",
    "plt.tight_layout()\n",
    "\n",
    "# Save the plot as a JPEG\n",
    "plt.savefig('top_disease_descriptions.jpeg')\n",
    "\n",
    "# Show plot\n",
    "plt.show()\n"
   ]
  },
  {
   "cell_type": "code",
   "execution_count": 43,
   "id": "cda369f9-6ae0-47fe-8c10-29c302d40e97",
   "metadata": {
    "colab": {
     "base_uri": "https://localhost:8080/"
    },
    "id": "cda369f9-6ae0-47fe-8c10-29c302d40e97",
    "outputId": "8df40b75-aefd-4fed-a9f9-fafe1dd202eb"
   },
   "outputs": [
    {
     "name": "stderr",
     "output_type": "stream",
     "text": [
      "                                                                                \r"
     ]
    },
    {
     "name": "stdout",
     "output_type": "stream",
     "text": [
      "+--------------------+-------------------------+\n",
      "|              COUNTY|total_count of 3 diseases|\n",
      "+--------------------+-------------------------+\n",
      "|   Montgomery County|                    13803|\n",
      "|Prince George's C...|                    12613|\n",
      "|    Baltimore County|                    10214|\n",
      "|      Baltimore city|                     9038|\n",
      "| Anne Arundel County|                     7452|\n",
      "+--------------------+-------------------------+\n",
      "\n"
     ]
    }
   ],
   "source": [
    "# Filter the DataFrame to include only the top 3 most prevalent diseases\n",
    "filtered_top3 = joined_df.filter(joined_df['DESCRIPTION'].isin(['Viral sinusitis (disorder)', 'Acute viral pharyngitis (disorder)', 'Body mass index 30+ - obesity (finding)']))\n",
    "\n",
    "# Group by 'COUNTY' and count occurrences of each disease\n",
    "county_counts = filtered_top3.groupBy('COUNTY', 'DESCRIPTION').agg(F.count('*').alias('count')).orderBy('count', ascending=False)\n",
    "\n",
    "# Select the top 5 counties\n",
    "top_5_counties = county_counts.groupBy('COUNTY').agg(F.sum('count').alias('total_count of 3 diseases')).orderBy('total_count of 3 diseases', ascending=False).limit(5)\n",
    "\n",
    "# Show the top 5 counties\n",
    "top_5_counties.show()"
   ]
  },
  {
   "cell_type": "code",
   "execution_count": 44,
   "id": "cfa3e5dd-a027-408b-99da-b31c1b78970e",
   "metadata": {
    "colab": {
     "base_uri": "https://localhost:8080/"
    },
    "id": "cfa3e5dd-a027-408b-99da-b31c1b78970e",
    "outputId": "84627c81-9860-4251-d0ce-46d3482356e0"
   },
   "outputs": [
    {
     "name": "stderr",
     "output_type": "stream",
     "text": [
      "                                                                                \r"
     ]
    },
    {
     "name": "stdout",
     "output_type": "stream",
     "text": [
      "+-------------+-------------------------+\n",
      "|         CITY|total_count of 3 diseases|\n",
      "+-------------+-------------------------+\n",
      "|    Baltimore|                     9038|\n",
      "|     Columbia|                     1358|\n",
      "|   Germantown|                     1349|\n",
      "|Ellicott City|                     1190|\n",
      "| Gaithersburg|                     1183|\n",
      "+-------------+-------------------------+\n",
      "\n"
     ]
    }
   ],
   "source": [
    "\n",
    "# Group by 'CITY' and count occurrences of each disease\n",
    "city_counts = filtered_top3.groupBy('CITY', 'DESCRIPTION').agg(F.count('*').alias('count')).orderBy('count', ascending=False)\n",
    "\n",
    "# Select the top 5 cities\n",
    "top_5_cities = city_counts.groupBy('CITY').agg(F.sum('count').alias('total_count of 3 diseases')).orderBy('total_count of 3 diseases', ascending=False).limit(5)\n",
    "\n",
    "# Show the top 5 cities\n",
    "top_5_cities.show()"
   ]
  },
  {
   "cell_type": "code",
   "execution_count": 45,
   "id": "64b95158-02c7-4f5f-a80b-fa0d242ac2f4",
   "metadata": {
    "colab": {
     "base_uri": "https://localhost:8080/"
    },
    "id": "64b95158-02c7-4f5f-a80b-fa0d242ac2f4",
    "outputId": "10c3133a-2a21-49c4-934f-c9c2fdf0e7b5"
   },
   "outputs": [
    {
     "data": {
      "text/plain": [
       "StructType([StructField('Id', StringType(), True), StructField('BIRTHDATE', TimestampType(), True), StructField('DEATHDATE', TimestampType(), True), StructField('PREFIX', StringType(), True), StructField('SUFFIX', StringType(), True), StructField('MARITAL', StringType(), True), StructField('RACE', StringType(), True), StructField('ETHNICITY', StringType(), True), StructField('GENDER', StringType(), True), StructField('BIRTHPLACE', StringType(), True), StructField('CITY', StringType(), True), StructField('STATE', StringType(), True), StructField('COUNTY', StringType(), True), StructField('HEALTHCARE_EXPENSES', DoubleType(), True), StructField('HEALTHCARE_COVERAGE', DoubleType(), True), StructField('AGE', LongType(), True), StructField('START', DateType(), True), StructField('STOP', DateType(), True), StructField('PATIENT', StringType(), True), StructField('ENCOUNTER', StringType(), True), StructField('CODE', LongType(), True), StructField('DESCRIPTION', StringType(), True)])"
      ]
     },
     "execution_count": 45,
     "metadata": {},
     "output_type": "execute_result"
    }
   ],
   "source": [
    "joined_df.schema"
   ]
  },
  {
   "cell_type": "code",
   "execution_count": 46,
   "id": "d1f3375e-7c84-4805-82ab-d8404e7b462d",
   "metadata": {
    "colab": {
     "base_uri": "https://localhost:8080/"
    },
    "id": "d1f3375e-7c84-4805-82ab-d8404e7b462d",
    "outputId": "6df4d955-5916-4fec-f2ad-c3b3fa471156"
   },
   "outputs": [
    {
     "name": "stderr",
     "output_type": "stream",
     "text": [
      "                                                                                \r"
     ]
    },
    {
     "name": "stdout",
     "output_type": "stream",
     "text": [
      "+-------+-------------------+-------------------+\n",
      "|summary|HEALTHCARE_EXPENSES|HEALTHCARE_COVERAGE|\n",
      "+-------+-------------------+-------------------+\n",
      "|  count|             456571|             456571|\n",
      "|   mean|  1301354.172672894| 22028.092033989058|\n",
      "| stddev| 497529.90456010535| 48056.706502718225|\n",
      "|    min|            1009.79|                0.0|\n",
      "|    max|         2282130.81|          643931.21|\n",
      "+-------+-------------------+-------------------+\n",
      "\n"
     ]
    }
   ],
   "source": [
    "#on average insurance covered healthcare was less than  healthcare expenses by patients\n",
    "des=joined_df.describe('HEALTHCARE_EXPENSES', 'HEALTHCARE_COVERAGE')\n",
    "des.show()"
   ]
  },
  {
   "cell_type": "code",
   "execution_count": 47,
   "id": "77479641-e60f-4e1a-8ec8-5750d01001da",
   "metadata": {
    "colab": {
     "base_uri": "https://localhost:8080/"
    },
    "id": "77479641-e60f-4e1a-8ec8-5750d01001da",
    "outputId": "3ae1c7cc-a3ec-4716-9d9b-5a335fb57857"
   },
   "outputs": [
    {
     "name": "stderr",
     "output_type": "stream",
     "text": [
      "                                                                                \r"
     ]
    },
    {
     "name": "stdout",
     "output_type": "stream",
     "text": [
      "+------------------------+------------------------+\n",
      "|avg(HEALTHCARE_EXPENSES)|avg(HEALTHCARE_COVERAGE)|\n",
      "+------------------------+------------------------+\n",
      "|1301354.172672894       |22028.092033989058      |\n",
      "+------------------------+------------------------+\n",
      "\n"
     ]
    }
   ],
   "source": [
    "# Compute the avg of HEALTHCARE_EXPENSES and HEALTHCARE_COVERAGE columns\n",
    "avg_result = joined_df.select(F.avg(\"HEALTHCARE_EXPENSES\"), F.avg(\"HEALTHCARE_COVERAGE\"))\n",
    "avg_result.show(truncate=False)"
   ]
  },
  {
   "cell_type": "code",
   "execution_count": 48,
   "id": "dd859e57-09be-497f-b698-b66a51ea5787",
   "metadata": {
    "colab": {
     "base_uri": "https://localhost:8080/",
     "height": 507
    },
    "id": "dd859e57-09be-497f-b698-b66a51ea5787",
    "outputId": "8b251531-b5d1-44d6-d9a2-1f6df57b8f94"
   },
   "outputs": [
    {
     "name": "stderr",
     "output_type": "stream",
     "text": [
      "                                                                                \r"
     ]
    },
    {
     "data": {
      "image/png": "[encoded data removed]",
      "text/plain": [
       "<Figure size 800x500 with 1 Axes>"
      ]
     },
     "metadata": {},
     "output_type": "display_data"
    }
   ],
   "source": [
    "avg_result = joined_df.select(F.avg(\"HEALTHCARE_EXPENSES\"), F.avg(\"HEALTHCARE_COVERAGE\")).collect()\n",
    "\n",
    "# Extract the average values\n",
    "healthcare_expenses_avg = avg_result[0][0]\n",
    "healthcare_coverage_avg = avg_result[0][1]\n",
    "\n",
    "# Categories\n",
    "categories = [\"HEALTHCARE_EXPENSES\", \"HEALTHCARE_COVERAGE\"]\n",
    "avg_values = [healthcare_expenses_avg, healthcare_coverage_avg]\n",
    "\n",
    "# Plotting\n",
    "plt.figure(figsize=(8, 5))\n",
    "plt.bar(categories, avg_values, color=sns.color_palette(\"viridis\"))\n",
    "plt.xlabel('Average')\n",
    "plt.ylabel('Category')\n",
    "plt.title('Average of HEALTHCARE_EXPENSES and HEALTHCARE_COVERAGE')\n",
    "plt.tight_layout()\n",
    "\n",
    "# Show plot\n",
    "plt.show()\n"
   ]
  },
  {
   "cell_type": "code",
   "execution_count": 49,
   "id": "9f4fbf2a-dc2f-45ef-8401-3a32f24805af",
   "metadata": {
    "colab": {
     "base_uri": "https://localhost:8080/"
    },
    "id": "9f4fbf2a-dc2f-45ef-8401-3a32f24805af",
    "outputId": "c885dd33-da11-41f5-e4a7-689f8ebc45b3"
   },
   "outputs": [
    {
     "name": "stderr",
     "output_type": "stream",
     "text": [
      "                                                                                \r"
     ]
    },
    {
     "name": "stdout",
     "output_type": "stream",
     "text": [
      "+------------------------+------------------------+\n",
      "|sum(HEALTHCARE_EXPENSES)|sum(HEALTHCARE_COVERAGE)|\n",
      "+------------------------+------------------------+\n",
      "|5.941605759714359E11    |1.0057388008050419E10   |\n",
      "+------------------------+------------------------+\n",
      "\n"
     ]
    }
   ],
   "source": [
    "#sum of HEALTHCARE_EXPENSES and HEALTHCARE_COVERAGE columns\n",
    "sum_result = joined_df.select(F.sum(\"HEALTHCARE_EXPENSES\"), F.sum(\"HEALTHCARE_COVERAGE\"))\n",
    "sum_result.show(truncate=False)"
   ]
  },
  {
   "cell_type": "code",
   "execution_count": 50,
   "id": "91901225-7f8e-4946-b816-79e89f33682d",
   "metadata": {
    "colab": {
     "base_uri": "https://localhost:8080/",
     "height": 607
    },
    "id": "91901225-7f8e-4946-b816-79e89f33682d",
    "outputId": "1cf1a454-d649-4502-8c66-406e3c869e40"
   },
   "outputs": [
    {
     "name": "stderr",
     "output_type": "stream",
     "text": [
      "                                                                                \r"
     ]
    },
    {
     "data": {
      "image/png": "[encoded data removed]",
      "text/plain": [
       "<Figure size 700x600 with 1 Axes>"
      ]
     },
     "metadata": {},
     "output_type": "display_data"
    }
   ],
   "source": [
    "sum_result = joined_df.select(F.sum(\"HEALTHCARE_EXPENSES\"), F.sum(\"HEALTHCARE_COVERAGE\")).collect()\n",
    "\n",
    "# Extract the sum values\n",
    "healthcare_expenses_sum = sum_result[0][0]\n",
    "healthcare_coverage_sum = sum_result[0][1]\n",
    "\n",
    "# Categories\n",
    "categories = [\"HEALTHCARE_EXPENSES\", \"HEALTHCARE_COVERAGE\"]\n",
    "sum_values = [healthcare_expenses_sum, healthcare_coverage_sum]\n",
    "\n",
    "plt.figure(figsize=(7, 6))\n",
    "bar_width = 0.5\n",
    "bar_positions = [0, 0.6]\n",
    "bars = plt.bar(bar_positions, sum_values, color=['skyblue', 'red'], width=bar_width)\n",
    "\n",
    "\n",
    "plt.xticks(bar_positions, categories)\n",
    "\n",
    "plt.xlabel('Category')\n",
    "plt.ylabel('Total Amount paid')\n",
    "plt.title('Total Amount paid')\n",
    "\n",
    "#legend\n",
    "plt.legend(bars, ['Healthcare Expenses', 'Healthcare Coverage'])\n",
    "\n",
    "plt.tight_layout()\n",
    "\n",
    "plt.savefig(\"HEALTHCARE_EXPENSES_VS_HEALTHCARE_COVERAGE.jpeg\")\n",
    "\n",
    "# Show plot\n",
    "plt.show()\n"
   ]
  },
  {
   "cell_type": "code",
   "execution_count": 55,
   "id": "eae4d725-a5ab-434d-a9c0-d3d79cd91ee1",
   "metadata": {
    "id": "eae4d725-a5ab-434d-a9c0-d3d79cd91ee1"
   },
   "outputs": [],
   "source": [
    "#finding conditions with most healthcare expenses\n",
    "healthcare_expenses = joined_df.groupBy( \"DESCRIPTION\").agg({\"HEALTHCARE_EXPENSES\": \"sum\"}).sort(F.col(\"sum(HEALTHCARE_EXPENSES)\").desc())"
   ]
  },
  {
   "cell_type": "code",
   "execution_count": 56,
   "id": "3312ff68-31e6-4627-a57f-0f6feba5a2c0",
   "metadata": {
    "colab": {
     "base_uri": "https://localhost:8080/"
    },
    "id": "3312ff68-31e6-4627-a57f-0f6feba5a2c0",
    "outputId": "40a2bde7-4de3-43f2-b3f0-22d46ce81a54"
   },
   "outputs": [
    {
     "name": "stderr",
     "output_type": "stream",
     "text": [
      "                                                                                \r"
     ]
    },
    {
     "name": "stdout",
     "output_type": "stream",
     "text": [
      "+--------------------+------------------------+\n",
      "|         DESCRIPTION|sum(HEALTHCARE_EXPENSES)|\n",
      "+--------------------+------------------------+\n",
      "|Viral sinusitis (...|    4.392991194216998E10|\n",
      "|Acute viral phary...|    2.386289128792002...|\n",
      "|Body mass index 3...|       2.352717902633E10|\n",
      "|  Suspected COVID-19|       2.330248307579E10|\n",
      "|            COVID-19|        2.28045508682E10|\n",
      "|     Fever (finding)|    2.087041563857999...|\n",
      "|         Prediabetes|    2.069777049321998...|\n",
      "|Acute bronchitis ...|    1.976498572074999...|\n",
      "|   Anemia (disorder)|    1.935185853098000...|\n",
      "|     Cough (finding)|    1.588116798146998...|\n",
      "|Chronic sinusitis...|    1.350421928669999...|\n",
      "|        Hypertension|    1.285581758555999...|\n",
      "|      Hyperlipidemia|    1.246326623855999...|\n",
      "|Loss of taste (fi...|    1.182383370097000...|\n",
      "|      Polyp of colon|         9.99959440285E9|\n",
      "|Miscarriage in fi...|     9.832806140710001E9|\n",
      "|   Fatigue (finding)|          8.8470022564E9|\n",
      "|Sputum finding (f...|     7.776727368759997E9|\n",
      "|Pneumonia (disorder)|     7.766340496810003E9|\n",
      "|Hypoxemia (disorder)|     7.731798772450003E9|\n",
      "+--------------------+------------------------+\n",
      "only showing top 20 rows\n",
      "\n"
     ]
    }
   ],
   "source": [
    "healthcare_expenses.show()"
   ]
  },
  {
   "cell_type": "code",
   "execution_count": 57,
   "id": "38cce827-78de-485a-a0c7-6179ab0ac0c1",
   "metadata": {
    "id": "38cce827-78de-485a-a0c7-6179ab0ac0c1",
    "outputId": "b92b5982-ebd8-4df6-b52f-0f2a3b3dc065"
   },
   "outputs": [
    {
     "name": "stderr",
     "output_type": "stream",
     "text": [
      "                                                                                \r"
     ]
    }
   ],
   "source": [
    "encounters=spark.read.csv(\"encounters.csv\", header=True, inferSchema=True)"
   ]
  },
  {
   "cell_type": "code",
   "execution_count": 58,
   "id": "4f26b293-860a-4235-b6b4-e26e6d7160b1",
   "metadata": {
    "id": "4f26b293-860a-4235-b6b4-e26e6d7160b1",
    "outputId": "926dfe29-e611-4da4-9729-f4abdf4dbc57"
   },
   "outputs": [
    {
     "data": {
      "text/plain": [
       "[Row(Id='ed3e50dd-ebdf-eaee-a261-f6603ac25e05', START=datetime.datetime(1992, 12, 2, 21, 59, 42), STOP=datetime.datetime(1992, 12, 2, 22, 14, 42), PATIENT='f851859f-b0fe-8b36-9939-4276b96d302d', ORGANIZATION='bcc122cf-e92a-3601-994c-18d49514bf79', PROVIDER='21141862-4f4e-3e34-ac4a-2f3b08b9d497', PAYER='7c4411ce-02f1-39b5-b9ec-dfbea9ad3c1a', ENCOUNTERCLASS='wellness', CODE=162673000, DESCRIPTION='General examination of patient (procedure)', BASE_ENCOUNTER_COST=116.48, TOTAL_CLAIM_COST=116.48, PAYER_COVERAGE=56.48, REASONCODE=None, REASONDESCRIPTION=None),\n",
       " Row(Id='47a338d3-4e76-fdfd-564c-7c68e1d815f7', START=datetime.datetime(1973, 12, 22, 4, 24, 8), STOP=datetime.datetime(1973, 12, 22, 4, 39, 8), PATIENT='f1639046-ecb1-b409-21d3-85a7e8e23c81', ORGANIZATION='e66aa975-b981-39ae-8447-236c9edcf95d', PROVIDER='ce2dca27-0406-3ccf-97d1-9e5bb1fe6f4b', PAYER='b1c428d6-4f07-31e0-90f0-68ffa6ff8c76', ENCOUNTERCLASS='ambulatory', CODE=424441002, DESCRIPTION='Prenatal initial visit', BASE_ENCOUNTER_COST=116.48, TOTAL_CLAIM_COST=116.48, PAYER_COVERAGE=0.0, REASONCODE=72892002, REASONDESCRIPTION='Normal pregnancy')]"
      ]
     },
     "execution_count": 58,
     "metadata": {},
     "output_type": "execute_result"
    }
   ],
   "source": [
    "encounters.take(2)\n"
   ]
  },
  {
   "cell_type": "code",
   "execution_count": 62,
   "id": "9b99e84d-18de-4d8d-91aa-ac2f509a75cc",
   "metadata": {
    "id": "9b99e84d-18de-4d8d-91aa-ac2f509a75cc",
    "outputId": "b4f1627e-0342-4be1-8c8c-33bef10caa6c"
   },
   "outputs": [
    {
     "name": "stderr",
     "output_type": "stream",
     "text": [
      "                                                                                \r"
     ]
    },
    {
     "data": {
      "text/plain": [
       "4875211"
      ]
     },
     "execution_count": 62,
     "metadata": {},
     "output_type": "execute_result"
    }
   ],
   "source": [
    "encounters.count()"
   ]
  },
  {
   "cell_type": "code",
   "execution_count": 63,
   "id": "fe8dff41-ad2f-4b83-a721-bc15a5af8e1b",
   "metadata": {
    "id": "fe8dff41-ad2f-4b83-a721-bc15a5af8e1b",
    "outputId": "d83d75cc-5fda-467b-a247-9c2507491dbb"
   },
   "outputs": [
    {
     "name": "stderr",
     "output_type": "stream",
     "text": [
      "                                                                                \r"
     ]
    },
    {
     "data": {
      "text/plain": [
       "[Row(Id='93c24b3d-a235-7fac-b87b-56baf8d1a7ff', BIRTHDATE=datetime.datetime(1934, 5, 31, 0, 0), DEATHDATE=datetime.datetime(1975, 6, 5, 0, 0), PREFIX='Mr.', SUFFIX='NaN', MARITAL='M', RACE='white', ETHNICITY='hispanic', GENDER='M', BIRTHPLACE='Lima  Lima Province  PE', CITY='Annapolis', STATE='Maryland', COUNTY='Anne Arundel County', HEALTHCARE_EXPENSES=1038772.91, HEALTHCARE_COVERAGE=2787.3, AGE=89, Id='0f4c7c06-d42e-8d6f-0090-fa4325d093a4', START=datetime.datetime(1956, 8, 2, 3, 30, 32), STOP=datetime.datetime(1956, 8, 2, 3, 45, 32), PATIENT='93c24b3d-a235-7fac-b87b-56baf8d1a7ff', ORGANIZATION='d6977ab7-ef9e-3988-b45f-5b9bce876ac7', PROVIDER='7d37fb7c-fcab-32d8-a0a9-fb0c3b4b39c2', PAYER='047f6ec3-6215-35eb-9608-f9dda363a44c', ENCOUNTERCLASS='wellness', CODE=162673000, DESCRIPTION='General examination of patient (procedure)', BASE_ENCOUNTER_COST=116.48, TOTAL_CLAIM_COST=116.48, PAYER_COVERAGE=56.48, REASONCODE=None, REASONDESCRIPTION=None)]"
      ]
     },
     "execution_count": 63,
     "metadata": {},
     "output_type": "execute_result"
    }
   ],
   "source": [
    "# Perform inner join between ptpy and encounters DataFrames based on patient identifier\n",
    "encounter_ptpy = ptpy.join(encounters, ptpy.Id == encounters.PATIENT, \"inner\")\n",
    "encounter_ptpy.take(1)"
   ]
  },
  {
   "cell_type": "code",
   "execution_count": 64,
   "id": "7cb58a4b-882c-4e08-b857-e13cd2cf8fb2",
   "metadata": {
    "id": "7cb58a4b-882c-4e08-b857-e13cd2cf8fb2",
    "outputId": "38d6b968-c196-4f5e-e07b-0aaf5ccd386b"
   },
   "outputs": [
    {
     "name": "stderr",
     "output_type": "stream",
     "text": [
      "                                                                                \r"
     ]
    },
    {
     "data": {
      "text/plain": [
       "2499890"
      ]
     },
     "execution_count": 64,
     "metadata": {},
     "output_type": "execute_result"
    }
   ],
   "source": [
    "encounter_ptpy.count()"
   ]
  },
  {
   "cell_type": "code",
   "execution_count": 65,
   "id": "532d89a6-b1dd-49d3-b449-2be139e6167f",
   "metadata": {
    "id": "532d89a6-b1dd-49d3-b449-2be139e6167f",
    "outputId": "fcdcff7b-d3ae-42ae-e0c2-12ac2b268697"
   },
   "outputs": [
    {
     "data": {
      "text/plain": [
       "['Id',\n",
       " 'BIRTHDATE',\n",
       " 'DEATHDATE',\n",
       " 'PREFIX',\n",
       " 'SUFFIX',\n",
       " 'MARITAL',\n",
       " 'RACE',\n",
       " 'ETHNICITY',\n",
       " 'GENDER',\n",
       " 'BIRTHPLACE',\n",
       " 'CITY',\n",
       " 'STATE',\n",
       " 'COUNTY',\n",
       " 'HEALTHCARE_EXPENSES',\n",
       " 'HEALTHCARE_COVERAGE',\n",
       " 'AGE',\n",
       " 'Id',\n",
       " 'START',\n",
       " 'STOP',\n",
       " 'PATIENT',\n",
       " 'ORGANIZATION',\n",
       " 'PROVIDER',\n",
       " 'PAYER',\n",
       " 'ENCOUNTERCLASS',\n",
       " 'CODE',\n",
       " 'DESCRIPTION',\n",
       " 'BASE_ENCOUNTER_COST',\n",
       " 'TOTAL_CLAIM_COST',\n",
       " 'PAYER_COVERAGE',\n",
       " 'REASONCODE',\n",
       " 'REASONDESCRIPTION']"
      ]
     },
     "execution_count": 65,
     "metadata": {},
     "output_type": "execute_result"
    }
   ],
   "source": [
    "encounter_ptpy.columns"
   ]
  },
  {
   "cell_type": "code",
   "execution_count": 66,
   "id": "02a8fc94-b26b-4fe0-a46b-906f8f97bc62",
   "metadata": {
    "id": "02a8fc94-b26b-4fe0-a46b-906f8f97bc62",
    "outputId": "12ce451e-17fc-4bf7-e3a6-dffb1577a5cc"
   },
   "outputs": [
    {
     "name": "stderr",
     "output_type": "stream",
     "text": [
      "[Stage 175:==========================================>             (9 + 3) / 12]\r"
     ]
    },
    {
     "name": "stdout",
     "output_type": "stream",
     "text": [
      "+--------------+------+\n",
      "|ENCOUNTERCLASS| count|\n",
      "+--------------+------+\n",
      "|      wellness|853084|\n",
      "|    ambulatory|850627|\n",
      "|    outpatient|397915|\n",
      "|    urgentcare|197438|\n",
      "|     inpatient|113651|\n",
      "|     emergency| 87175|\n",
      "+--------------+------+\n",
      "\n"
     ]
    },
    {
     "name": "stderr",
     "output_type": "stream",
     "text": [
      "                                                                                \r"
     ]
    }
   ],
   "source": [
    "# Group by ENCOUNTERCLASS and count occurrences\n",
    "encounter_class = encounter_ptpy.groupBy('ENCOUNTERCLASS').count()\n",
    "\n",
    "# Order by count in descending order\n",
    "encounter_class_sorted = encounter_class.orderBy(encounter_class['count'].desc())\n",
    "\n",
    "# Show the top 10 rows\n",
    "encounter_class_sorted.show(10)\n"
   ]
  },
  {
   "cell_type": "code",
   "execution_count": 67,
   "id": "9d168e3f-e2d7-479e-bf5a-97200b3e71fd",
   "metadata": {
    "id": "9d168e3f-e2d7-479e-bf5a-97200b3e71fd",
    "outputId": "92650aa0-993d-41f2-d4c4-1445041eef31"
   },
   "outputs": [
    {
     "name": "stderr",
     "output_type": "stream",
     "text": [
      "[Stage 184:=============================================>         (10 + 2) / 12]\r"
     ]
    },
    {
     "name": "stdout",
     "output_type": "stream",
     "text": [
      "+--------------+--------------------+\n",
      "|ENCOUNTERCLASS|          Total_Cost|\n",
      "+--------------+--------------------+\n",
      "|      wellness| 9.936722432025433E7|\n",
      "|    ambulatory| 6.893110649007748E7|\n",
      "|    outpatient|2.8169581429993127E7|\n",
      "|    urgentcare|2.2997578239998166E7|\n",
      "|     emergency|   9803228.119998747|\n",
      "|     inpatient|   9725135.889997967|\n",
      "+--------------+--------------------+\n",
      "\n"
     ]
    },
    {
     "name": "stderr",
     "output_type": "stream",
     "text": [
      "                                                                                \r"
     ]
    }
   ],
   "source": [
    "# Group by EncounterClass and calculate the sum of Total_Claim_Cost\n",
    "encounter_costs = encounter_ptpy.groupBy('ENCOUNTERCLASS').agg(sum('TOTAL_CLAIM_COST').alias('Total_Cost'))\n",
    "\n",
    "# Sort the DataFrame by Total_Cost in descending order\n",
    "encounter_costs_sorted = encounter_costs.orderBy(encounter_costs['Total_Cost'].desc())\n",
    "\n",
    "# Show the resulting sorted DataFrame\n",
    "encounter_costs_sorted.show()\n"
   ]
  },
  {
   "cell_type": "code",
   "execution_count": 68,
   "id": "67f9ae76-81c3-4d8b-b2cb-d3d8f8fa199f",
   "metadata": {
    "id": "67f9ae76-81c3-4d8b-b2cb-d3d8f8fa199f",
    "outputId": "b3bd435d-f864-447c-d44f-811a2557ed6f"
   },
   "outputs": [
    {
     "name": "stderr",
     "output_type": "stream",
     "text": [
      "                                                                                \r"
     ]
    },
    {
     "data": {
      "image/png": "[encoded data removed]",
      "text/plain": [
       "<Figure size 1000x800 with 1 Axes>"
      ]
     },
     "metadata": {},
     "output_type": "display_data"
    }
   ],
   "source": [
    "# Convert PySpark DataFrame to Pandas DataFrame for visualization\n",
    "encounter_costs_pd = encounter_costs_sorted.toPandas()\n",
    "\n",
    "# Plot the data using seaborn\n",
    "plt.figure(figsize=(10, 8))\n",
    "sns.barplot(x='ENCOUNTERCLASS', y='Total_Cost', data=encounter_costs_pd)\n",
    "plt.xlabel('Encounter Class')\n",
    "plt.ylabel('Total Claim Cost')\n",
    "plt.title('Total Claim Cost by Encounter Class')\n",
    "plt.xticks(rotation=45, ha='right')\n",
    "plt.tight_layout()\n",
    "plt.savefig('Total claim cost by encounter.jpeg')\n",
    "plt.show()\n",
    "\n"
   ]
  },
  {
   "cell_type": "code",
   "execution_count": null,
   "id": "66a9c73b-73b7-47b0-97fd-961f7dbb292c",
   "metadata": {
    "id": "66a9c73b-73b7-47b0-97fd-961f7dbb292c"
   },
   "outputs": [],
   "source": []
  }
 ],
 "metadata": {
  "colab": {
   "provenance": []
  },
  "kernelspec": {
   "display_name": "Python 3 (ipykernel)",
   "language": "python",
   "name": "python3"
  },
  "language_info": {
   "codemirror_mode": {
    "name": "ipython",
    "version": 3
   },
   "file_extension": ".py",
   "mimetype": "text/x-python",
   "name": "python",
   "nbconvert_exporter": "python",
   "pygments_lexer": "ipython3",
   "version": "3.10.13"
  }
 },
 "nbformat": 4,
 "nbformat_minor": 5
}
